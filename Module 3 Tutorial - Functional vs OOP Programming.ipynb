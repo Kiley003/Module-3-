{
 "cells": [
  {
   "cell_type": "code",
   "execution_count": 29,
   "id": "359f89b4-5d7a-4d29-979e-b9c2f7a8f452",
   "metadata": {},
   "outputs": [
    {
     "name": "stdout",
     "output_type": "stream",
     "text": [
      "0 0 0 0 0 1 1 1 1 1 2 2 "
     ]
    }
   ],
   "source": [
    "#class soulution\n",
    "#function to sort an arrary of 0's, 1's and 2's\n",
    "def sort_array_012(arr, size):  \n",
    "    low = 0  \n",
    "    high = size - 1  \n",
    "    mid = 0  \n",
    "      \n",
    "    while mid <= high:  \n",
    "        if arr[mid] == 0:  \n",
    "            arr[low], arr[mid] = arr[mid], arr[low]  \n",
    "            low += 1  \n",
    "            mid += 1  \n",
    "        elif arr[mid] == 1:  \n",
    "            mid += 1  \n",
    "        else:  \n",
    "            arr[mid], arr[high] = arr[high], arr[mid]  \n",
    "            high -= 1  \n",
    "      \n",
    "    return arr  \n",
    "  \n",
    "def print_sorted_array(arr):  \n",
    "    for element in arr:  \n",
    "        print(element, end=' ')  \n",
    "\n",
    "input_array = [0, 1, 1, 0, 1, 2, 1, 2, 0, 0, 0, 1]  \n",
    "array_size = len(input_array)  \n",
    "sorted_array = sort_array_012(input_array, array_size)  \n",
    "print_sorted_array(sorted_array)  "
   ]
  }
 ],
 "metadata": {
  "kernelspec": {
   "display_name": "anaconda-2024.02-py310",
   "language": "python",
   "name": "conda-env-anaconda-2024.02-py310-py"
  },
  "language_info": {
   "codemirror_mode": {
    "name": "ipython",
    "version": 3
   },
   "file_extension": ".py",
   "mimetype": "text/x-python",
   "name": "python",
   "nbconvert_exporter": "python",
   "pygments_lexer": "ipython3",
   "version": "3.10.14"
  }
 },
 "nbformat": 4,
 "nbformat_minor": 5
}
