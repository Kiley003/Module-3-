{
 "cells": [
  {
   "cell_type": "code",
   "execution_count": 17,
   "id": "026daf92-de54-4d55-8741-25ea8c9af524",
   "metadata": {},
   "outputs": [
    {
     "name": "stdout",
     "output_type": "stream",
     "text": [
      "Enter the year of car:  2015\n",
      "Enter the make of car:  Landrover\n",
      "Enter the car model:  lr2\n",
      "Enter the number of car doors (2 or 4):  4\n",
      "Enter the type of roof (solid or sunroof):  sunroof\n"
     ]
    },
    {
     "name": "stdout",
     "output_type": "stream",
     "text": [
      "\n",
      "Information:\n",
      "Vehicle type: car\n",
      "Year: 2015\n",
      "Make: Landrover\n",
      "Model: lr2\n",
      "Number of car doors: 4\n",
      "Type of roof: sunroof\n"
     ]
    }
   ],
   "source": [
    "# Author Kiley Gilbert\n",
    "# Date 1/31/25\n",
    "# This app will create a super class called Vehicle, which contains an attribute for vehicle type, such as car, truck, plane, boat, or a broomstick.\n",
    "# A class called Automobile which will inherit the attributes from Vehicle and also contain the following attributes: year, make, model, doors (2 or 4), roof (solid or sun roof).\n",
    "\n",
    "class Vehicle: #This is the class for vehicle\n",
    "    def __init__(self, vehicle_type):  \n",
    "        self.vehicle_type = vehicle_type\n",
    "\n",
    "# This defines the vehicle class\n",
    "class Automobile(Vehicle):\n",
    "    def __init__(self, vehicle_type, year, make, model, doors, roof): #Creates additional attributes\n",
    "        super().__init__(vehicle_type)\n",
    "        self.year = year\n",
    "        self.make = make\n",
    "        self.model = model\n",
    "        self.doors = doors\n",
    "        self.roof = roof\n",
    "\n",
    "def main():\n",
    "#User input for each question and stores results\n",
    "    vehicle_type = \"car\"\n",
    "    year = input(\"Enter the year of car: \")\n",
    "    make = input(\"Enter the make of car: \")\n",
    "    model = input(\"Enter the car model: \")\n",
    "    doors = input(\"Enter the number of car doors (2 or 4): \")\n",
    "    roof = input(\"Enter the type of roof (solid or sunroof): \")\n",
    "\n",
    "    car = Automobile(vehicle_type, year, make, model, doors, roof)\n",
    "\n",
    "    print(\"\\nInformation:\")\n",
    "#Displays the information in proper order\n",
    "    print(f\"Vehicle type: {car.vehicle_type}\")\n",
    "    print(f\"Year: {car.year}\")\n",
    "    print(f\"Make: {car.make}\")\n",
    "    print(f\"Model: {car.model}\")\n",
    "    print(f\"Number of car doors: {car.doors}\")\n",
    "    print(f\"Type of roof: {car.roof}\")\n",
    "\n",
    "if __name__ == \"__main__\":  \n",
    "    main()"
   ]
  },
  {
   "cell_type": "code",
   "execution_count": null,
   "id": "4cf76f19-44f5-4329-af4a-c341e305232a",
   "metadata": {},
   "outputs": [],
   "source": []
  }
 ],
 "metadata": {
  "kernelspec": {
   "display_name": "anaconda-2024.02-py310",
   "language": "python",
   "name": "conda-env-anaconda-2024.02-py310-py"
  },
  "language_info": {
   "codemirror_mode": {
    "name": "ipython",
    "version": 3
   },
   "file_extension": ".py",
   "mimetype": "text/x-python",
   "name": "python",
   "nbconvert_exporter": "python",
   "pygments_lexer": "ipython3",
   "version": "3.10.14"
  }
 },
 "nbformat": 4,
 "nbformat_minor": 5
}
